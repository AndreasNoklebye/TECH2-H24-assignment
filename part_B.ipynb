{
 "cells": [
  {
   "cell_type": "markdown",
   "metadata": {},
   "source": [
    "# TECH 2 mandatory assignment - Part B\n",
    "\n",
    "Write your solution for Part B in this notebook."
   ]
  },
  {
   "cell_type": "markdown",
   "metadata": {},
   "source": []
  },
  {
   "cell_type": "markdown",
   "metadata": {},
   "source": []
  },
  {
   "cell_type": "code",
   "execution_count": 1,
   "metadata": {},
   "outputs": [],
   "source": [
    "import numpy as np                             \n",
    "from part_A import std_loops, std_builtin\n",
    "import pandas as pd\n"
   ]
  },
  {
   "cell_type": "code",
   "execution_count": 2,
   "metadata": {},
   "outputs": [],
   "source": [
    "df = pd.read_csv('data.csv', header = None)         # Using pandas to read the dataset\n",
    "\n",
    "colum1 = df.iloc[:, 0].tolist()                     # Creating a list \"colum1\" for all values in colum 1 for data.csv\n",
    "colum2 = df.iloc[:, 1].tolist()                     # List for colum 2 in data.csv\n",
    "colum3 = df.iloc[:, 2].tolist()                     # List for colum 3"
   ]
  },
  {
   "cell_type": "markdown",
   "metadata": {},
   "source": [
    "## Standard deviation of column 1 (100 numbers):"
   ]
  },
  {
   "cell_type": "code",
   "execution_count": 3,
   "metadata": {},
   "outputs": [
    {
     "name": "stdout",
     "output_type": "stream",
     "text": [
      "0.2801377861677587\n",
      "4.45 μs ± 34.6 ns per loop (mean ± std. dev. of 7 runs, 100,000 loops each)\n"
     ]
    }
   ],
   "source": [
    "# Looped function\n",
    "\n",
    "print(std_loops(colum1[0:99]))\n",
    "%timeit std_loops(colum1[0:99])"
   ]
  },
  {
   "cell_type": "code",
   "execution_count": 4,
   "metadata": {},
   "outputs": [
    {
     "name": "stdout",
     "output_type": "stream",
     "text": [
      "0.2801377861677587\n",
      "4.93 μs ± 10.3 ns per loop (mean ± std. dev. of 7 runs, 100,000 loops each)\n"
     ]
    }
   ],
   "source": [
    "# Built in function\n",
    "\n",
    "print(std_builtin(colum1[0:99]))\n",
    "%timeit std_builtin(colum1[0:99])"
   ]
  },
  {
   "cell_type": "code",
   "execution_count": 5,
   "metadata": {},
   "outputs": [
    {
     "name": "stdout",
     "output_type": "stream",
     "text": [
      "0.28013778616775875\n",
      "8.76 μs ± 38.6 ns per loop (mean ± std. dev. of 7 runs, 100,000 loops each)\n"
     ]
    }
   ],
   "source": [
    "# NumPy's std() function\n",
    "\n",
    "print(np.std(colum1[0:99]))\n",
    "%timeit np.std(colum1[0:99])"
   ]
  },
  {
   "cell_type": "markdown",
   "metadata": {},
   "source": [
    "### We see that the looped function is the quickest for a sequence of 100 numbers"
   ]
  },
  {
   "cell_type": "markdown",
   "metadata": {},
   "source": [
    "## Standard deviation of colum 2 (1,000 numbers)"
   ]
  },
  {
   "cell_type": "code",
   "execution_count": 6,
   "metadata": {},
   "outputs": [
    {
     "name": "stdout",
     "output_type": "stream",
     "text": [
      "0.28479994653916385\n",
      "48.7 μs ± 112 ns per loop (mean ± std. dev. of 7 runs, 10,000 loops each)\n"
     ]
    }
   ],
   "source": [
    "# Looped function\n",
    "\n",
    "print(std_loops(colum2[0:999]))\n",
    "%timeit std_loops(colum2[0:999])\n"
   ]
  },
  {
   "cell_type": "code",
   "execution_count": 7,
   "metadata": {},
   "outputs": [
    {
     "name": "stdout",
     "output_type": "stream",
     "text": [
      "0.28479994653916435\n",
      "46.5 μs ± 70 ns per loop (mean ± std. dev. of 7 runs, 10,000 loops each)\n"
     ]
    }
   ],
   "source": [
    "# Built in function\n",
    "\n",
    "print(std_builtin(colum2[0:999]))\n",
    "%timeit std_builtin(colum2[0:999])\n"
   ]
  },
  {
   "cell_type": "code",
   "execution_count": 8,
   "metadata": {},
   "outputs": [
    {
     "name": "stdout",
     "output_type": "stream",
     "text": [
      "0.28479994653916435\n",
      "27.5 μs ± 39 ns per loop (mean ± std. dev. of 7 runs, 10,000 loops each)\n"
     ]
    }
   ],
   "source": [
    "# NumPy's std() function\n",
    "\n",
    "print(np.std(colum2[0:999]))\n",
    "%timeit np.std(colum2[0:999])\n"
   ]
  },
  {
   "cell_type": "markdown",
   "metadata": {},
   "source": [
    "### Here we clearly see that numPy's std function is quicker for 1,000 numbers"
   ]
  },
  {
   "cell_type": "markdown",
   "metadata": {},
   "source": [
    "## Standard deviation of colum3 (10,000 numbers)"
   ]
  },
  {
   "cell_type": "code",
   "execution_count": 9,
   "metadata": {},
   "outputs": [
    {
     "name": "stdout",
     "output_type": "stream",
     "text": [
      "0.2854175030671726\n",
      "512 μs ± 5.54 μs per loop (mean ± std. dev. of 7 runs, 1,000 loops each)\n"
     ]
    }
   ],
   "source": [
    "# Looped function\n",
    "\n",
    "print(std_loops(colum3[0:9999]))\n",
    "%timeit std_loops(colum3[0:9999])"
   ]
  },
  {
   "cell_type": "code",
   "execution_count": 10,
   "metadata": {},
   "outputs": [
    {
     "name": "stdout",
     "output_type": "stream",
     "text": [
      "0.2854175030671727\n",
      "486 μs ± 8.18 μs per loop (mean ± std. dev. of 7 runs, 1,000 loops each)\n"
     ]
    }
   ],
   "source": [
    "# Built in function\n",
    "\n",
    "print(std_builtin(colum3[0:9999]))\n",
    "%timeit std_builtin(colum3[0:9999])"
   ]
  },
  {
   "cell_type": "code",
   "execution_count": 11,
   "metadata": {},
   "outputs": [
    {
     "name": "stdout",
     "output_type": "stream",
     "text": [
      "0.2854175030671725\n",
      "220 μs ± 3.13 μs per loop (mean ± std. dev. of 7 runs, 1,000 loops each)\n"
     ]
    }
   ],
   "source": [
    "# NumPy's std() function\n",
    "\n",
    "print(np.std(colum3[0:9999]))\n",
    "%timeit np.std(colum3[0:9999])"
   ]
  },
  {
   "cell_type": "markdown",
   "metadata": {},
   "source": [
    "### Here we also  see how numPy's function is cleary the fastest"
   ]
  },
  {
   "cell_type": "markdown",
   "metadata": {},
   "source": [
    "## Conclusion"
   ]
  },
  {
   "cell_type": "markdown",
   "metadata": {},
   "source": [
    "To sum up we see that using numpy's std() function is clearly faster for a larger set of numbers, compared to using for loops and python's built in functions len() and sum(). However, for smaller datasets (<100) the for loop function out preformes the numpy function. The reason for this may be the simplicity of a for loop compared to the numpy function, which is optimized for large datasets. Whereas the for loop directly operates the standard deviation without setting up a advanced base before computing. It is also worth mentioning that for datasets > 100. The built in python functions becomes a little bit faster to compute the standard deviation, than the for loop function.  "
   ]
  }
 ],
 "metadata": {
  "kernelspec": {
   "display_name": "Python 3 (ipykernel)",
   "language": "python",
   "name": "python3"
  },
  "language_info": {
   "codemirror_mode": {
    "name": "ipython",
    "version": 3
   },
   "file_extension": ".py",
   "mimetype": "text/x-python",
   "name": "python",
   "nbconvert_exporter": "python",
   "pygments_lexer": "ipython3",
   "version": "3.12.6"
  }
 },
 "nbformat": 4,
 "nbformat_minor": 4
}
