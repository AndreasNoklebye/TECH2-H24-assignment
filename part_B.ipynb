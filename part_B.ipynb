{
 "cells": [
  {
   "cell_type": "markdown",
   "metadata": {},
   "source": [
    "# TECH 2 mandatory assignment - Part B\n",
    "\n",
    "Write your solution for Part B in this notebook."
   ]
  },
  {
   "cell_type": "markdown",
   "metadata": {},
   "source": []
  },
  {
   "cell_type": "markdown",
   "metadata": {},
   "source": []
  },
  {
   "cell_type": "code",
   "execution_count": 10,
   "metadata": {},
   "outputs": [],
   "source": [
    "import numpy as np                             \n",
    "from part_A import std_loops, std_builtin\n",
    "import pandas as pd\n"
   ]
  },
  {
   "cell_type": "code",
   "execution_count": 11,
   "metadata": {},
   "outputs": [],
   "source": [
    "df = pd.read_csv('data.csv', header = None)         # Using pandas to read the dataset\n",
    "\n",
    "colum1 = df.iloc[:, 0].tolist()                     # Creating a list \"colum1\" for all values in colum 1 for data.csv\n",
    "colum2 = df.iloc[:, 1].tolist()                     # List for colum 2 in data.csv\n",
    "colum3 = df.iloc[:, 2].tolist()                     # List for colum 3"
   ]
  },
  {
   "cell_type": "markdown",
   "metadata": {},
   "source": [
    "## Standard deviation of column 1 (100 numbers):"
   ]
  },
  {
   "cell_type": "code",
   "execution_count": 12,
   "metadata": {},
   "outputs": [
    {
     "name": "stdout",
     "output_type": "stream",
     "text": [
      "0.2801377861677587\n",
      "4.57 μs ± 53.1 ns per loop (mean ± std. dev. of 7 runs, 100,000 loops each)\n"
     ]
    }
   ],
   "source": [
    "# Looped function\n",
    "\n",
    "print(std_loops(colum1[0:99]))\n",
    "%timeit std_loops(colum1[0:99])"
   ]
  },
  {
   "cell_type": "code",
   "execution_count": 13,
   "metadata": {},
   "outputs": [
    {
     "name": "stdout",
     "output_type": "stream",
     "text": [
      "0.2801377861677587\n",
      "6.69 μs ± 28.1 ns per loop (mean ± std. dev. of 7 runs, 100,000 loops each)\n"
     ]
    }
   ],
   "source": [
    "# Built in function\n",
    "\n",
    "print(std_builtin(colum1[0:99]))\n",
    "%timeit std_builtin(colum1[0:99])"
   ]
  },
  {
   "cell_type": "code",
   "execution_count": 14,
   "metadata": {},
   "outputs": [
    {
     "name": "stdout",
     "output_type": "stream",
     "text": [
      "0.28013778616775875\n",
      "9.07 μs ± 96.8 ns per loop (mean ± std. dev. of 7 runs, 100,000 loops each)\n"
     ]
    }
   ],
   "source": [
    "# NumPy's std() function\n",
    "\n",
    "print(np.std(colum1[0:99]))\n",
    "%timeit np.std(colum1[0:99])"
   ]
  },
  {
   "cell_type": "markdown",
   "metadata": {},
   "source": [
    "### We see that the looped function is the quickest for a sequence of 100 numbers"
   ]
  },
  {
   "cell_type": "markdown",
   "metadata": {},
   "source": [
    "## Standard deviation of colum 2 (1,000 numbers)"
   ]
  },
  {
   "cell_type": "code",
   "execution_count": 15,
   "metadata": {},
   "outputs": [
    {
     "name": "stdout",
     "output_type": "stream",
     "text": [
      "0.28479994653916385\n",
      "49.7 μs ± 918 ns per loop (mean ± std. dev. of 7 runs, 10,000 loops each)\n"
     ]
    }
   ],
   "source": [
    "# Looped function\n",
    "\n",
    "print(std_loops(colum2[0:999]))\n",
    "%timeit std_loops(colum2[0:999])\n"
   ]
  },
  {
   "cell_type": "code",
   "execution_count": 16,
   "metadata": {},
   "outputs": [
    {
     "name": "stdout",
     "output_type": "stream",
     "text": [
      "0.28479994653916385\n",
      "65.1 μs ± 1.39 μs per loop (mean ± std. dev. of 7 runs, 10,000 loops each)\n"
     ]
    }
   ],
   "source": [
    "# Built in function\n",
    "\n",
    "print(std_builtin(colum2[0:999]))\n",
    "%timeit std_builtin(colum2[0:999])\n"
   ]
  },
  {
   "cell_type": "code",
   "execution_count": 17,
   "metadata": {},
   "outputs": [
    {
     "name": "stdout",
     "output_type": "stream",
     "text": [
      "0.28479994653916435\n",
      "28.1 μs ± 268 ns per loop (mean ± std. dev. of 7 runs, 10,000 loops each)\n"
     ]
    }
   ],
   "source": [
    "# NumPy's std() function\n",
    "\n",
    "print(np.std(colum2[0:999]))\n",
    "%timeit np.std(colum2[0:999])\n"
   ]
  },
  {
   "cell_type": "markdown",
   "metadata": {},
   "source": [
    "### Here we clearly see that numPy's std function is quicker for 1,000 numbers"
   ]
  },
  {
   "cell_type": "markdown",
   "metadata": {},
   "source": [
    "## Standard deviation of colum3 (10,000 numbers)"
   ]
  },
  {
   "cell_type": "code",
   "execution_count": 18,
   "metadata": {},
   "outputs": [
    {
     "name": "stdout",
     "output_type": "stream",
     "text": [
      "0.2854175030671726\n",
      "522 μs ± 8.56 μs per loop (mean ± std. dev. of 7 runs, 1,000 loops each)\n"
     ]
    }
   ],
   "source": [
    "# Looped function\n",
    "\n",
    "print(std_loops(colum3[0:9999]))\n",
    "%timeit std_loops(colum3[0:9999])"
   ]
  },
  {
   "cell_type": "code",
   "execution_count": 19,
   "metadata": {},
   "outputs": [
    {
     "name": "stdout",
     "output_type": "stream",
     "text": [
      "0.28541750306717345\n",
      "582 μs ± 4.87 μs per loop (mean ± std. dev. of 7 runs, 1,000 loops each)\n"
     ]
    }
   ],
   "source": [
    "# Built in function\n",
    "\n",
    "print(std_builtin(colum3[0:9999]))\n",
    "%timeit std_builtin(colum3[0:9999])"
   ]
  },
  {
   "cell_type": "code",
   "execution_count": 20,
   "metadata": {},
   "outputs": [
    {
     "name": "stdout",
     "output_type": "stream",
     "text": [
      "0.2854175030671725\n",
      "223 μs ± 8.23 μs per loop (mean ± std. dev. of 7 runs, 1,000 loops each)\n"
     ]
    }
   ],
   "source": [
    "# NumPy's std() function\n",
    "\n",
    "print(np.std(colum3[0:9999]))\n",
    "%timeit np.std(colum3[0:9999])"
   ]
  },
  {
   "cell_type": "markdown",
   "metadata": {},
   "source": [
    "### Here we also  see how numPy's function is cleary the fastest"
   ]
  },
  {
   "cell_type": "markdown",
   "metadata": {},
   "source": [
    "## Conclusion"
   ]
  },
  {
   "cell_type": "markdown",
   "metadata": {},
   "source": [
    "To sum up we find out that numpy's functions preformes better with a larger amount of numbers, while the looped function can be the quickest for a small dataset. So having a large dataset, numpy's will out preform the other functions. We also see that for all cases the built in python functions sum() and len() are the slowest to compute the standard deviation."
   ]
  }
 ],
 "metadata": {
  "kernelspec": {
   "display_name": "Python 3 (ipykernel)",
   "language": "python",
   "name": "python3"
  },
  "language_info": {
   "codemirror_mode": {
    "name": "ipython",
    "version": 3
   },
   "file_extension": ".py",
   "mimetype": "text/x-python",
   "name": "python",
   "nbconvert_exporter": "python",
   "pygments_lexer": "ipython3",
   "version": "3.12.6"
  }
 },
 "nbformat": 4,
 "nbformat_minor": 4
}
